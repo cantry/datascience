{
 "cells": [
  {
   "cell_type": "markdown",
   "metadata": {},
   "source": [
    "#### special characters\n",
    "\\w - Lowercase w. Matches any single letter, digit or underscore. \n",
    "example: re.search(r'Co\\wk\\we', 'Cookie').group()\n",
    "\\W - Uppercase w. Matches any character not part of \\w (lowercase w).\n",
    "example: re.search(r'C\\Wke', 'C@ke').group()\n",
    ".  - A period. Matches any single character except newline character. \n",
    "example: re.search(r'Co.k.e', 'Cookie')\n",
    "\\s - Lowercase s. Matches a single whitespace character like: space, newline, tab, return.\n",
    "example: re.search(r'Eat\\scake', 'Eat cake').group()\n",
    "\\S - Uppercase s. Matches any character not part of \\s (lowercase s).\n",
    "example: re.search(r'Cook\\Se', 'Cookie').group()\n",
    "\\t - Lowercase t. Matches tab.\n",
    "example: re.search(r'Eat\\tcake', 'Eat    cake').group()\n",
    "\\n - Lowercase n. Matches newline.\n",
    "example: \n",
    "\\r - Lowercase r. Matches return.\n",
    "example: \n",
    "\\d - Lowercase d. Matches decimal digit 0-9.\n",
    "example: re.search(r'C\\d\\dokie', 'C00kie)\n",
    "^ - Caret. Matches a pattern at the start of the string.\n",
    "example: re.serach(r'^Eat', 'Eat Cookie')\n",
    "$ - Matches a pattern at the end of string.\n",
    "example: re.search(r'cake$' 'Eat cake')\n",
    "\n",
    "[abc] - Matches a or b or c.f\n",
    "example: \n",
    "[a-zA-Z0-9] - Matches any letter from (a to z) or (A to Z) or (0 to 9). Characters that are not within a range can be matched by complementing the set. If the first character of the set is ^, all the characters that are not in the set will be matched.\n",
    "example : re.search(r'[a-zA-Z0-9]', 'Alpha123')\n",
    "example: re.search(r'[^a-zA-Z0-9]', '!@#%*');\n",
    "\\A - Uppercase a. Matches only at the start of the string. Works across multiple lines as well.\n",
    "re.search(r'\\A[A-E]ookie', 'Cookie').group()\n",
    "\\b - matches only at the beginning or end of the word\n",
    "re.search(r'\\b[A-E]ookie', 'cookiE').group()\n",
    "+ - Checks for one or more characters to its left.\n",
    "* - Checks for zero or more characters to its left.\n",
    "? - Checks for exactly zero or more characters to its left.\n",
    "{x} - Repeat exactly x number of times.\n",
    "\n",
    "{x,} - Repeat at least x times or more.\n",
    "\n",
    "{x, y} - Repeat at least x times but no more than y times.\n",
    "Example: re.search(r'\\d{9,10}', '0987654321').group()"
   ]
  },
  {
   "cell_type": "code",
   "execution_count": 1,
   "metadata": {
    "collapsed": true
   },
   "outputs": [],
   "source": [
    "import re;"
   ]
  },
  {
   "cell_type": "code",
   "execution_count": 3,
   "metadata": {
    "collapsed": false
   },
   "outputs": [
    {
     "data": {
      "text/plain": [
       "<_sre.SRE_Match object; span=(0, 5), match='!@#%*'>"
      ]
     },
     "execution_count": 3,
     "metadata": {},
     "output_type": "execute_result"
    }
   ],
   "source": [
    "re.search(r'[^a-zA-Z0-9]*', '!@#%*')"
   ]
  },
  {
   "cell_type": "code",
   "execution_count": 5,
   "metadata": {
    "collapsed": false
   },
   "outputs": [
    {
     "data": {
      "text/plain": [
       "<_sre.SRE_Match object; span=(4, 8), match='cake'>"
      ]
     },
     "execution_count": 5,
     "metadata": {},
     "output_type": "execute_result"
    }
   ],
   "source": [
    "re.search(r'cake$' ,'Eat cake')"
   ]
  },
  {
   "cell_type": "code",
   "execution_count": 12,
   "metadata": {
    "collapsed": false
   },
   "outputs": [
    {
     "data": {
      "text/plain": [
       "<_sre.SRE_Match object; span=(0, 10), match='Number: 10'>"
      ]
     },
     "execution_count": 12,
     "metadata": {},
     "output_type": "execute_result"
    }
   ],
   "source": [
    "re.search(r'Number: [0-9]*', 'Number: 10')"
   ]
  },
  {
   "cell_type": "code",
   "execution_count": 20,
   "metadata": {
    "collapsed": false
   },
   "outputs": [
    {
     "data": {
      "text/plain": [
       "<_sre.SRE_Match object; span=(0, 6), match='Cookie'>"
      ]
     },
     "execution_count": 20,
     "metadata": {},
     "output_type": "execute_result"
    }
   ],
   "source": [
    "re.search(r'\\b[A-E]ookie', 'Cookie')"
   ]
  },
  {
   "cell_type": "code",
   "execution_count": 21,
   "metadata": {
    "collapsed": false
   },
   "outputs": [
    {
     "data": {
      "text/plain": [
       "'0987654321'"
      ]
     },
     "execution_count": 21,
     "metadata": {},
     "output_type": "execute_result"
    }
   ],
   "source": [
    "re.search(r'\\d{9,10}', '0987654321').group()"
   ]
  },
  {
   "cell_type": "code",
   "execution_count": null,
   "metadata": {
    "collapsed": true
   },
   "outputs": [],
   "source": []
  }
 ],
 "metadata": {
  "kernelspec": {
   "display_name": "Python 3",
   "language": "python",
   "name": "python3"
  },
  "language_info": {
   "codemirror_mode": {
    "name": "ipython",
    "version": 3
   },
   "file_extension": ".py",
   "mimetype": "text/x-python",
   "name": "python",
   "nbconvert_exporter": "python",
   "pygments_lexer": "ipython3",
   "version": "3.6.0"
  }
 },
 "nbformat": 4,
 "nbformat_minor": 2
}
