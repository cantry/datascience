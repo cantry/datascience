{
 "cells": [
  {
   "cell_type": "markdown",
   "metadata": {},
   "source": [
    "# Grouping and Summarising Dataframes\n",
    "\n",
    "Grouping and aggregation are some of the most frequently used operations in data analysis, especially while doing exploratory data analysis (EDA), where comparing summary statistics across groups of data is common.\n",
    "\n",
    "For e.g., in the retail sales data we are working with, you may want to compare the average sales of various regions, or compare the total profit of two customer segments. \n",
    "\n",
    "Grouping analysis can be thought of as having three parts:\n",
    "1. **Splitting** the data into groups (e.g. groups of customer segments, product categories, etc.)\n",
    "2. **Applying** a function to each group (e.g. mean or total sales of each customer segment)\n",
    "3. **Combining** the results into a data structure showing the summary statistics\n",
    "\n",
    "Let's work through some examples."
   ]
  },
  {
   "cell_type": "code",
   "execution_count": 1,
   "metadata": {
    "collapsed": true
   },
   "outputs": [],
   "source": [
    "# Loading libraries and files\n",
    "import numpy as np\n",
    "import pandas as pd\n",
    "\n",
    "market_df = pd.read_csv(\"../global_sales_data/market_fact.csv\")\n",
    "customer_df = pd.read_csv(\"../global_sales_data/cust_dimen.csv\")\n",
    "product_df = pd.read_csv(\"../global_sales_data/prod_dimen.csv\")\n",
    "shipping_df = pd.read_csv(\"../global_sales_data/shipping_dimen.csv\")\n",
    "orders_df = pd.read_csv(\"../global_sales_data/orders_dimen.csv\")"
   ]
  },
  {
   "cell_type": "markdown",
   "metadata": {},
   "source": [
    "Say you want to understand how well or poorly the business is doing in various customer segments, regions, product categories etc. Specifically, you want to identify areas of business where you are incurrring heavy losses, and want to take action accordingly.\n",
    "\n",
    "To do that, we will answer questions such as:\n",
    "* Which customer segments are the least profitable?\n",
    "* Which product categories and sub-categories are the least profitable?\n",
    "* Customers in which geographic region cause the most losses?\n",
    "* Etc.\n",
    "\n",
    "First, we will merge all the dataframes, so we have all the data in one ```master_df```."
   ]
  },
  {
   "cell_type": "code",
   "execution_count": 2,
   "metadata": {
    "collapsed": false
   },
   "outputs": [
    {
     "data": {
      "text/html": [
       "<div>\n",
       "<table border=\"1\" class=\"dataframe\">\n",
       "  <thead>\n",
       "    <tr style=\"text-align: right;\">\n",
       "      <th></th>\n",
       "      <th>Ord_id</th>\n",
       "      <th>Prod_id</th>\n",
       "      <th>Ship_id</th>\n",
       "      <th>Cust_id</th>\n",
       "      <th>Sales</th>\n",
       "      <th>Discount</th>\n",
       "      <th>Order_Quantity</th>\n",
       "      <th>Profit</th>\n",
       "      <th>Shipping_Cost</th>\n",
       "      <th>Product_Base_Margin</th>\n",
       "      <th>...</th>\n",
       "      <th>Region</th>\n",
       "      <th>Customer_Segment</th>\n",
       "      <th>Product_Category</th>\n",
       "      <th>Product_Sub_Category</th>\n",
       "      <th>Order_ID_x</th>\n",
       "      <th>Ship_Mode</th>\n",
       "      <th>Ship_Date</th>\n",
       "      <th>Order_ID_y</th>\n",
       "      <th>Order_Date</th>\n",
       "      <th>Order_Priority</th>\n",
       "    </tr>\n",
       "  </thead>\n",
       "  <tbody>\n",
       "    <tr>\n",
       "      <th>0</th>\n",
       "      <td>Ord_5446</td>\n",
       "      <td>Prod_16</td>\n",
       "      <td>SHP_7609</td>\n",
       "      <td>Cust_1818</td>\n",
       "      <td>136.81</td>\n",
       "      <td>0.01</td>\n",
       "      <td>23</td>\n",
       "      <td>-30.51</td>\n",
       "      <td>3.60</td>\n",
       "      <td>0.56</td>\n",
       "      <td>...</td>\n",
       "      <td>WEST</td>\n",
       "      <td>CORPORATE</td>\n",
       "      <td>OFFICE SUPPLIES</td>\n",
       "      <td>SCISSORS, RULERS AND TRIMMERS</td>\n",
       "      <td>36262</td>\n",
       "      <td>REGULAR AIR</td>\n",
       "      <td>28-07-2010</td>\n",
       "      <td>36262</td>\n",
       "      <td>27-07-2010</td>\n",
       "      <td>NOT SPECIFIED</td>\n",
       "    </tr>\n",
       "    <tr>\n",
       "      <th>1</th>\n",
       "      <td>Ord_5446</td>\n",
       "      <td>Prod_4</td>\n",
       "      <td>SHP_7610</td>\n",
       "      <td>Cust_1818</td>\n",
       "      <td>4701.69</td>\n",
       "      <td>0.00</td>\n",
       "      <td>26</td>\n",
       "      <td>1148.90</td>\n",
       "      <td>2.50</td>\n",
       "      <td>0.59</td>\n",
       "      <td>...</td>\n",
       "      <td>WEST</td>\n",
       "      <td>CORPORATE</td>\n",
       "      <td>TECHNOLOGY</td>\n",
       "      <td>TELEPHONES AND COMMUNICATION</td>\n",
       "      <td>36262</td>\n",
       "      <td>EXPRESS AIR</td>\n",
       "      <td>27-07-2010</td>\n",
       "      <td>36262</td>\n",
       "      <td>27-07-2010</td>\n",
       "      <td>NOT SPECIFIED</td>\n",
       "    </tr>\n",
       "    <tr>\n",
       "      <th>2</th>\n",
       "      <td>Ord_5446</td>\n",
       "      <td>Prod_6</td>\n",
       "      <td>SHP_7608</td>\n",
       "      <td>Cust_1818</td>\n",
       "      <td>164.02</td>\n",
       "      <td>0.03</td>\n",
       "      <td>23</td>\n",
       "      <td>-47.64</td>\n",
       "      <td>6.15</td>\n",
       "      <td>0.37</td>\n",
       "      <td>...</td>\n",
       "      <td>WEST</td>\n",
       "      <td>CORPORATE</td>\n",
       "      <td>OFFICE SUPPLIES</td>\n",
       "      <td>PAPER</td>\n",
       "      <td>36262</td>\n",
       "      <td>EXPRESS AIR</td>\n",
       "      <td>28-07-2010</td>\n",
       "      <td>36262</td>\n",
       "      <td>27-07-2010</td>\n",
       "      <td>NOT SPECIFIED</td>\n",
       "    </tr>\n",
       "    <tr>\n",
       "      <th>3</th>\n",
       "      <td>Ord_2978</td>\n",
       "      <td>Prod_16</td>\n",
       "      <td>SHP_4112</td>\n",
       "      <td>Cust_1088</td>\n",
       "      <td>305.05</td>\n",
       "      <td>0.04</td>\n",
       "      <td>27</td>\n",
       "      <td>23.12</td>\n",
       "      <td>3.37</td>\n",
       "      <td>0.57</td>\n",
       "      <td>...</td>\n",
       "      <td>ONTARIO</td>\n",
       "      <td>HOME OFFICE</td>\n",
       "      <td>OFFICE SUPPLIES</td>\n",
       "      <td>SCISSORS, RULERS AND TRIMMERS</td>\n",
       "      <td>37863</td>\n",
       "      <td>REGULAR AIR</td>\n",
       "      <td>26-02-2011</td>\n",
       "      <td>37863</td>\n",
       "      <td>24-02-2011</td>\n",
       "      <td>HIGH</td>\n",
       "    </tr>\n",
       "    <tr>\n",
       "      <th>4</th>\n",
       "      <td>Ord_5484</td>\n",
       "      <td>Prod_16</td>\n",
       "      <td>SHP_7663</td>\n",
       "      <td>Cust_1820</td>\n",
       "      <td>322.82</td>\n",
       "      <td>0.05</td>\n",
       "      <td>35</td>\n",
       "      <td>-17.58</td>\n",
       "      <td>3.98</td>\n",
       "      <td>0.56</td>\n",
       "      <td>...</td>\n",
       "      <td>WEST</td>\n",
       "      <td>CONSUMER</td>\n",
       "      <td>OFFICE SUPPLIES</td>\n",
       "      <td>SCISSORS, RULERS AND TRIMMERS</td>\n",
       "      <td>53026</td>\n",
       "      <td>REGULAR AIR</td>\n",
       "      <td>03-03-2012</td>\n",
       "      <td>53026</td>\n",
       "      <td>26-02-2012</td>\n",
       "      <td>LOW</td>\n",
       "    </tr>\n",
       "  </tbody>\n",
       "</table>\n",
       "<p>5 rows × 22 columns</p>\n",
       "</div>"
      ],
      "text/plain": [
       "     Ord_id  Prod_id   Ship_id    Cust_id    Sales  Discount  Order_Quantity  \\\n",
       "0  Ord_5446  Prod_16  SHP_7609  Cust_1818   136.81      0.01              23   \n",
       "1  Ord_5446   Prod_4  SHP_7610  Cust_1818  4701.69      0.00              26   \n",
       "2  Ord_5446   Prod_6  SHP_7608  Cust_1818   164.02      0.03              23   \n",
       "3  Ord_2978  Prod_16  SHP_4112  Cust_1088   305.05      0.04              27   \n",
       "4  Ord_5484  Prod_16  SHP_7663  Cust_1820   322.82      0.05              35   \n",
       "\n",
       "    Profit  Shipping_Cost  Product_Base_Margin       ...         Region  \\\n",
       "0   -30.51           3.60                 0.56       ...           WEST   \n",
       "1  1148.90           2.50                 0.59       ...           WEST   \n",
       "2   -47.64           6.15                 0.37       ...           WEST   \n",
       "3    23.12           3.37                 0.57       ...        ONTARIO   \n",
       "4   -17.58           3.98                 0.56       ...           WEST   \n",
       "\n",
       "  Customer_Segment Product_Category           Product_Sub_Category Order_ID_x  \\\n",
       "0        CORPORATE  OFFICE SUPPLIES  SCISSORS, RULERS AND TRIMMERS      36262   \n",
       "1        CORPORATE       TECHNOLOGY   TELEPHONES AND COMMUNICATION      36262   \n",
       "2        CORPORATE  OFFICE SUPPLIES                          PAPER      36262   \n",
       "3      HOME OFFICE  OFFICE SUPPLIES  SCISSORS, RULERS AND TRIMMERS      37863   \n",
       "4         CONSUMER  OFFICE SUPPLIES  SCISSORS, RULERS AND TRIMMERS      53026   \n",
       "\n",
       "     Ship_Mode   Ship_Date Order_ID_y  Order_Date  Order_Priority  \n",
       "0  REGULAR AIR  28-07-2010      36262  27-07-2010   NOT SPECIFIED  \n",
       "1  EXPRESS AIR  27-07-2010      36262  27-07-2010   NOT SPECIFIED  \n",
       "2  EXPRESS AIR  28-07-2010      36262  27-07-2010   NOT SPECIFIED  \n",
       "3  REGULAR AIR  26-02-2011      37863  24-02-2011            HIGH  \n",
       "4  REGULAR AIR  03-03-2012      53026  26-02-2012             LOW  \n",
       "\n",
       "[5 rows x 22 columns]"
      ]
     },
     "execution_count": 2,
     "metadata": {},
     "output_type": "execute_result"
    }
   ],
   "source": [
    "# Merging the dataframes one by one\n",
    "df_1 = pd.merge(market_df, customer_df, how='inner', on='Cust_id')\n",
    "df_2 = pd.merge(df_1, product_df, how='inner', on='Prod_id')\n",
    "df_3 = pd.merge(df_2, shipping_df, how='inner', on='Ship_id')\n",
    "master_df = pd.merge(df_3, orders_df, how='inner', on='Ord_id')\n",
    "\n",
    "master_df.head()"
   ]
  },
  {
   "cell_type": "markdown",
   "metadata": {},
   "source": [
    "#### Step 1. Grouping using ```df.groupby()```\n",
    "\n",
    "Typically, you group the data using a categorical variable, such as customer segments, product categories, etc. This creates as many subsets of the data as there are levels in the categorical variable. \n",
    "\n",
    "For example, in this case, we will group the data along ```Customer_Segment```."
   ]
  },
  {
   "cell_type": "code",
   "execution_count": 3,
   "metadata": {
    "collapsed": false
   },
   "outputs": [
    {
     "data": {
      "text/plain": [
       "<pandas.core.groupby.DataFrameGroupBy object at 0x1046be710>"
      ]
     },
     "execution_count": 3,
     "metadata": {},
     "output_type": "execute_result"
    }
   ],
   "source": [
    "# Which customer segments are the least profitable? \n",
    "\n",
    "# Step 1. Grouping: First, we will group the dataframe by customer segments\n",
    "df_by_segment = master_df.groupby('Customer_Segment')\n",
    "df_by_segment"
   ]
  },
  {
   "cell_type": "markdown",
   "metadata": {},
   "source": [
    "Note that ```df.groupby``` returns a DataFrameGroupBy object."
   ]
  },
  {
   "cell_type": "markdown",
   "metadata": {},
   "source": [
    "#### Step 2. Applying a Function\n",
    "\n",
    "After grouping, you apply a function to a **numeric variable**, such as ```mean(Sales)```, ```sum(Profit)```, etc. "
   ]
  },
  {
   "cell_type": "code",
   "execution_count": 4,
   "metadata": {
    "collapsed": false
   },
   "outputs": [
    {
     "data": {
      "text/plain": [
       "Customer_Segment\n",
       "CONSUMER          287959.94\n",
       "CORPORATE         599746.00\n",
       "HOME OFFICE       318354.03\n",
       "SMALL BUSINESS    315708.01\n",
       "Name: Profit, dtype: float64"
      ]
     },
     "execution_count": 4,
     "metadata": {},
     "output_type": "execute_result"
    }
   ],
   "source": [
    "# Step 2. Applying a function\n",
    "# We can choose aggregate functions such as sum, mean, median, etc.\n",
    "df_by_segment['Profit'].sum()"
   ]
  },
  {
   "cell_type": "markdown",
   "metadata": {},
   "source": [
    "Notice that we have indexed the ```Profit``` column in the DataFrameGroupBy object exactly as we index a normal column in a dataframe. Alternatively, you could also use ```df_by_segment.Profit```. "
   ]
  },
  {
   "cell_type": "code",
   "execution_count": 5,
   "metadata": {
    "collapsed": false
   },
   "outputs": [
    {
     "data": {
      "text/plain": [
       "Customer_Segment\n",
       "CONSUMER          287959.94\n",
       "CORPORATE         599746.00\n",
       "HOME OFFICE       318354.03\n",
       "SMALL BUSINESS    315708.01\n",
       "Name: Profit, dtype: float64"
      ]
     },
     "execution_count": 5,
     "metadata": {},
     "output_type": "execute_result"
    }
   ],
   "source": [
    "# Alternatively\n",
    "df_by_segment.Profit.sum()"
   ]
  },
  {
   "cell_type": "markdown",
   "metadata": {},
   "source": [
    "So this tells us that profits are the least in the CONSUMER segment, and highest in the CORPORATE segment."
   ]
  },
  {
   "cell_type": "code",
   "execution_count": 6,
   "metadata": {
    "collapsed": false
   },
   "outputs": [
    {
     "data": {
      "text/plain": [
       "Customer_Segment\n",
       "CORPORATE         599746.00\n",
       "HOME OFFICE       318354.03\n",
       "SMALL BUSINESS    315708.01\n",
       "CONSUMER          287959.94\n",
       "Name: Profit, dtype: float64"
      ]
     },
     "execution_count": 6,
     "metadata": {},
     "output_type": "execute_result"
    }
   ],
   "source": [
    "# For better readability, you may want to sort the summarised series:\n",
    "df_by_segment.Profit.sum().sort_values(ascending = False)"
   ]
  },
  {
   "cell_type": "markdown",
   "metadata": {},
   "source": [
    "#### Step 3. Combining the results into a Data Structure\n",
    "\n",
    "You can optionally show the results as a dataframe."
   ]
  },
  {
   "cell_type": "code",
   "execution_count": 7,
   "metadata": {
    "collapsed": false
   },
   "outputs": [
    {
     "data": {
      "text/html": [
       "<div>\n",
       "<style scoped>\n",
       "    .dataframe tbody tr th:only-of-type {\n",
       "        vertical-align: middle;\n",
       "    }\n",
       "\n",
       "    .dataframe tbody tr th {\n",
       "        vertical-align: top;\n",
       "    }\n",
       "\n",
       "    .dataframe thead th {\n",
       "        text-align: right;\n",
       "    }\n",
       "</style>\n",
       "<table border=\"1\" class=\"dataframe\">\n",
       "  <thead>\n",
       "    <tr style=\"text-align: right;\">\n",
       "      <th></th>\n",
       "      <th>Profit</th>\n",
       "    </tr>\n",
       "    <tr>\n",
       "      <th>Customer_Segment</th>\n",
       "      <th></th>\n",
       "    </tr>\n",
       "  </thead>\n",
       "  <tbody>\n",
       "    <tr>\n",
       "      <th>CONSUMER</th>\n",
       "      <td>287959.94</td>\n",
       "    </tr>\n",
       "    <tr>\n",
       "      <th>CORPORATE</th>\n",
       "      <td>599746.00</td>\n",
       "    </tr>\n",
       "    <tr>\n",
       "      <th>HOME OFFICE</th>\n",
       "      <td>318354.03</td>\n",
       "    </tr>\n",
       "    <tr>\n",
       "      <th>SMALL BUSINESS</th>\n",
       "      <td>315708.01</td>\n",
       "    </tr>\n",
       "  </tbody>\n",
       "</table>\n",
       "</div>"
      ],
      "text/plain": [
       "                     Profit\n",
       "Customer_Segment           \n",
       "CONSUMER          287959.94\n",
       "CORPORATE         599746.00\n",
       "HOME OFFICE       318354.03\n",
       "SMALL BUSINESS    315708.01"
      ]
     },
     "execution_count": 7,
     "metadata": {},
     "output_type": "execute_result"
    }
   ],
   "source": [
    "# Converting to a df\n",
    "pd.DataFrame(df_by_segment['Profit'].sum())"
   ]
  },
  {
   "cell_type": "code",
   "execution_count": 8,
   "metadata": {
    "collapsed": true
   },
   "outputs": [],
   "source": [
    "# Let's go through some more examples\n",
    "# E.g.: Which product categories are the least profitable?\n",
    "\n",
    "# 1. Group by product category\n",
    "by_product_cat = master_df.groupby('Product_Category')"
   ]
  },
  {
   "cell_type": "code",
   "execution_count": 9,
   "metadata": {
    "collapsed": false
   },
   "outputs": [
    {
     "data": {
      "text/plain": [
       "Product_Category\n",
       "FURNITURE           68.116607\n",
       "OFFICE SUPPLIES    112.369074\n",
       "TECHNOLOGY         429.207516\n",
       "Name: Profit, dtype: float64"
      ]
     },
     "execution_count": 9,
     "metadata": {},
     "output_type": "execute_result"
    }
   ],
   "source": [
    "# 2. This time, let's compare average profits\n",
    "# Apply mean() on Profit\n",
    "by_product_cat['Profit'].mean()"
   ]
  },
  {
   "cell_type": "markdown",
   "metadata": {},
   "source": [
    "FURNITURE is the least profitable, TECHNOLOGY the most. Let's see which product sub-cetgories within FURNITURE are less profitable."
   ]
  },
  {
   "cell_type": "code",
   "execution_count": 12,
   "metadata": {
    "collapsed": false
   },
   "outputs": [
    {
     "data": {
      "text/plain": [
       "<pandas.core.groupby.DataFrameGroupBy object at 0x0000019F3ACA7048>"
      ]
     },
     "execution_count": 12,
     "metadata": {},
     "output_type": "execute_result"
    }
   ],
   "source": [
    "# E.g.: Which product categories and sub-categories are the least profitable?\n",
    "# 1. Group by category and sub-category\n",
    "by_product_cat_subcat = master_df.groupby(['Product_Category', 'Product_Sub_Category'])\n",
    "by_product_cat_subcat"
   ]
  },
  {
   "cell_type": "markdown",
   "metadata": {},
   "source": [
    "Thus, within FURNITURE, TABLES are the least profitable, followed by BOOKCASES."
   ]
  },
  {
   "cell_type": "code",
   "execution_count": 13,
   "metadata": {
    "collapsed": false
   },
   "outputs": [
    {
     "ename": "NameError",
     "evalue": "name 'by_product_cat' is not defined",
     "output_type": "error",
     "traceback": [
      "\u001b[0;31m---------------------------------------------------------------------------\u001b[0m",
      "\u001b[0;31mNameError\u001b[0m                                 Traceback (most recent call last)",
      "\u001b[0;32m<ipython-input-13-ff18f1ff7379>\u001b[0m in \u001b[0;36m<module>\u001b[0;34m()\u001b[0m\n\u001b[1;32m      1\u001b[0m \u001b[1;31m# Recall the df.describe() method?\u001b[0m\u001b[1;33m\u001b[0m\u001b[1;33m\u001b[0m\u001b[0m\n\u001b[1;32m      2\u001b[0m \u001b[1;31m# To apply multiple functions simultaneously, you can use the describe() function on the grouped df object\u001b[0m\u001b[1;33m\u001b[0m\u001b[1;33m\u001b[0m\u001b[0m\n\u001b[0;32m----> 3\u001b[0;31m \u001b[0mby_product_cat\u001b[0m\u001b[1;33m[\u001b[0m\u001b[1;34m'Profit'\u001b[0m\u001b[1;33m]\u001b[0m\u001b[1;33m.\u001b[0m\u001b[0mdescribe\u001b[0m\u001b[1;33m(\u001b[0m\u001b[1;33m)\u001b[0m\u001b[1;33m\u001b[0m\u001b[0m\n\u001b[0m",
      "\u001b[0;31mNameError\u001b[0m: name 'by_product_cat' is not defined"
     ]
    }
   ],
   "source": [
    "# Recall the df.describe() method?\n",
    "# To apply multiple functions simultaneously, you can use the describe() function on the grouped df object\n",
    "by_product_cat['Profit'].describe()"
   ]
  },
  {
   "cell_type": "code",
   "execution_count": 12,
   "metadata": {
    "collapsed": false
   },
   "outputs": [
    {
     "data": {
      "text/plain": [
       "Product_Category\n",
       "FURNITURE          1724\n",
       "OFFICE SUPPLIES    4610\n",
       "TECHNOLOGY         2065\n",
       "Name: Profit, dtype: int64"
      ]
     },
     "execution_count": 12,
     "metadata": {},
     "output_type": "execute_result"
    }
   ],
   "source": [
    "# Some other summary functions to apply on groups\n",
    "by_product_cat['Profit'].count()"
   ]
  },
  {
   "cell_type": "code",
   "execution_count": 13,
   "metadata": {
    "collapsed": false
   },
   "outputs": [
    {
     "data": {
      "text/plain": [
       "Product_Category\n",
       "FURNITURE         -11053.60\n",
       "OFFICE SUPPLIES    -2175.09\n",
       "TECHNOLOGY        -14140.70\n",
       "Name: Profit, dtype: float64"
      ]
     },
     "execution_count": 13,
     "metadata": {},
     "output_type": "execute_result"
    }
   ],
   "source": [
    "by_product_cat['Profit'].min()"
   ]
  },
  {
   "cell_type": "code",
   "execution_count": 14,
   "metadata": {
    "collapsed": false
   },
   "outputs": [
    {
     "data": {
      "text/plain": [
       "Region\n",
       "ATLANTIC                 221.259870\n",
       "NORTHWEST TERRITORIES    255.464670\n",
       "NUNAVUT                   35.963418\n",
       "ONTARIO                  189.960865\n",
       "PRARIE                   188.253294\n",
       "QUEBEC                   179.803649\n",
       "WEST                     149.175595\n",
       "YUKON                    136.253155\n",
       "Name: Profit, dtype: float64"
      ]
     },
     "execution_count": 14,
     "metadata": {},
     "output_type": "execute_result"
    }
   ],
   "source": [
    "# E.g. Customers in which geographic region are the least profitable?\n",
    "master_df.groupby('Region').Profit.mean()"
   ]
  },
  {
   "cell_type": "code",
   "execution_count": 15,
   "metadata": {
    "collapsed": false
   },
   "outputs": [
    {
     "data": {
      "text/plain": [
       "Region\n",
       "ATLANTIC                 13.504305\n",
       "NORTHWEST TERRITORIES     5.369193\n",
       "NUNAVUT                   0.780233\n",
       "ONTARIO                  20.536970\n",
       "PRARIE                   19.022396\n",
       "QUEBEC                   10.124936\n",
       "WEST                     24.119372\n",
       "YUKON                     6.542595\n",
       "Name: Sales, dtype: float64"
      ]
     },
     "execution_count": 15,
     "metadata": {},
     "output_type": "execute_result"
    }
   ],
   "source": [
    "# Note that the resulting object is a Series, thus you can perform vectorised computations on them\n",
    "\n",
    "# E.g. Calculate the Sales across each region as a percentage of total Sales\n",
    "# You can divide the entire series by a number (total sales) easily \n",
    "(master_df.groupby('Region').Sales.sum() / sum(master_df['Sales']))*100"
   ]
  },
  {
   "cell_type": "markdown",
   "metadata": {},
   "source": [
    "The regions ONTARIO, WEST and PRARIE comprise of about 64% of the sales."
   ]
  },
  {
   "cell_type": "markdown",
   "metadata": {},
   "source": [
    "Until now, we've been working with the data without making changes or additions to it. In the next section, we will create new columns, alter existing columns and apply some more grouping and summarising.\n",
    "\n"
   ]
  },
  {
   "cell_type": "code",
   "execution_count": 21,
   "metadata": {
    "collapsed": false
   },
   "outputs": [],
   "source": [
    "df_by_segment = master_df.groupby([\"Customer_Segment\", \"Region\"])"
   ]
  },
  {
   "cell_type": "markdown",
   "metadata": {},
   "source": [
    "Select Profit and Sales and get the mean of the columns"
   ]
  },
  {
   "cell_type": "code",
   "execution_count": 28,
   "metadata": {
    "collapsed": false
   },
   "outputs": [],
   "source": [
    "df_1 = df_by_segment[\"Profit\", \"Sales\"].mean()"
   ]
  },
  {
   "cell_type": "code",
   "execution_count": 29,
   "metadata": {
    "collapsed": false
   },
   "outputs": [
    {
     "data": {
      "text/html": [
       "<div>\n",
       "<table border=\"1\" class=\"dataframe\">\n",
       "  <thead>\n",
       "    <tr style=\"text-align: right;\">\n",
       "      <th></th>\n",
       "      <th></th>\n",
       "      <th>Profit</th>\n",
       "      <th>Sales</th>\n",
       "    </tr>\n",
       "    <tr>\n",
       "      <th>Customer_Segment</th>\n",
       "      <th>Region</th>\n",
       "      <th></th>\n",
       "      <th></th>\n",
       "    </tr>\n",
       "  </thead>\n",
       "  <tbody>\n",
       "    <tr>\n",
       "      <th rowspan=\"8\" valign=\"top\">CONSUMER</th>\n",
       "      <th>ATLANTIC</th>\n",
       "      <td>308.278841</td>\n",
       "      <td>2191.276783</td>\n",
       "    </tr>\n",
       "    <tr>\n",
       "      <th>NORTHWEST TERRITORIES</th>\n",
       "      <td>340.005152</td>\n",
       "      <td>2052.510621</td>\n",
       "    </tr>\n",
       "    <tr>\n",
       "      <th>NUNAVUT</th>\n",
       "      <td>336.757500</td>\n",
       "      <td>2271.586667</td>\n",
       "    </tr>\n",
       "    <tr>\n",
       "      <th>ONTARIO</th>\n",
       "      <td>78.158006</td>\n",
       "      <td>1478.099014</td>\n",
       "    </tr>\n",
       "    <tr>\n",
       "      <th>PRARIE</th>\n",
       "      <td>182.478223</td>\n",
       "      <td>1519.745182</td>\n",
       "    </tr>\n",
       "    <tr>\n",
       "      <th>QUEBEC</th>\n",
       "      <td>196.921180</td>\n",
       "      <td>2082.320233</td>\n",
       "    </tr>\n",
       "    <tr>\n",
       "      <th>WEST</th>\n",
       "      <td>167.868173</td>\n",
       "      <td>2068.721678</td>\n",
       "    </tr>\n",
       "    <tr>\n",
       "      <th>YUKON</th>\n",
       "      <td>17.889615</td>\n",
       "      <td>1964.666188</td>\n",
       "    </tr>\n",
       "    <tr>\n",
       "      <th rowspan=\"8\" valign=\"top\">CORPORATE</th>\n",
       "      <th>ATLANTIC</th>\n",
       "      <td>115.449162</td>\n",
       "      <td>1643.961467</td>\n",
       "    </tr>\n",
       "    <tr>\n",
       "      <th>NORTHWEST TERRITORIES</th>\n",
       "      <td>228.152513</td>\n",
       "      <td>1976.408073</td>\n",
       "    </tr>\n",
       "    <tr>\n",
       "      <th>NUNAVUT</th>\n",
       "      <td>-38.651714</td>\n",
       "      <td>1742.229000</td>\n",
       "    </tr>\n",
       "    <tr>\n",
       "      <th>ONTARIO</th>\n",
       "      <td>214.708173</td>\n",
       "      <td>1751.318412</td>\n",
       "    </tr>\n",
       "    <tr>\n",
       "      <th>PRARIE</th>\n",
       "      <td>244.944449</td>\n",
       "      <td>1872.082308</td>\n",
       "    </tr>\n",
       "    <tr>\n",
       "      <th>QUEBEC</th>\n",
       "      <td>228.074914</td>\n",
       "      <td>1996.559045</td>\n",
       "    </tr>\n",
       "    <tr>\n",
       "      <th>WEST</th>\n",
       "      <td>202.380304</td>\n",
       "      <td>1772.304088</td>\n",
       "    </tr>\n",
       "    <tr>\n",
       "      <th>YUKON</th>\n",
       "      <td>69.593500</td>\n",
       "      <td>1548.871968</td>\n",
       "    </tr>\n",
       "    <tr>\n",
       "      <th rowspan=\"8\" valign=\"top\">HOME OFFICE</th>\n",
       "      <th>ATLANTIC</th>\n",
       "      <td>327.441399</td>\n",
       "      <td>2113.716464</td>\n",
       "    </tr>\n",
       "    <tr>\n",
       "      <th>NORTHWEST TERRITORIES</th>\n",
       "      <td>119.600227</td>\n",
       "      <td>2204.625398</td>\n",
       "    </tr>\n",
       "    <tr>\n",
       "      <th>NUNAVUT</th>\n",
       "      <td>45.990000</td>\n",
       "      <td>997.452978</td>\n",
       "    </tr>\n",
       "    <tr>\n",
       "      <th>ONTARIO</th>\n",
       "      <td>248.423385</td>\n",
       "      <td>1811.414706</td>\n",
       "    </tr>\n",
       "    <tr>\n",
       "      <th>PRARIE</th>\n",
       "      <td>133.026843</td>\n",
       "      <td>1417.655288</td>\n",
       "    </tr>\n",
       "    <tr>\n",
       "      <th>QUEBEC</th>\n",
       "      <td>125.905787</td>\n",
       "      <td>2093.104754</td>\n",
       "    </tr>\n",
       "    <tr>\n",
       "      <th>WEST</th>\n",
       "      <td>16.484839</td>\n",
       "      <td>1589.417233</td>\n",
       "    </tr>\n",
       "    <tr>\n",
       "      <th>YUKON</th>\n",
       "      <td>203.969924</td>\n",
       "      <td>1970.877118</td>\n",
       "    </tr>\n",
       "    <tr>\n",
       "      <th rowspan=\"8\" valign=\"top\">SMALL BUSINESS</th>\n",
       "      <th>ATLANTIC</th>\n",
       "      <td>203.397074</td>\n",
       "      <td>1631.070976</td>\n",
       "    </tr>\n",
       "    <tr>\n",
       "      <th>NORTHWEST TERRITORIES</th>\n",
       "      <td>430.865366</td>\n",
       "      <td>1970.896366</td>\n",
       "    </tr>\n",
       "    <tr>\n",
       "      <th>NUNAVUT</th>\n",
       "      <td>-100.548889</td>\n",
       "      <td>577.556667</td>\n",
       "    </tr>\n",
       "    <tr>\n",
       "      <th>ONTARIO</th>\n",
       "      <td>161.939652</td>\n",
       "      <td>1528.490906</td>\n",
       "    </tr>\n",
       "    <tr>\n",
       "      <th>PRARIE</th>\n",
       "      <td>135.165576</td>\n",
       "      <td>1682.845591</td>\n",
       "    </tr>\n",
       "    <tr>\n",
       "      <th>QUEBEC</th>\n",
       "      <td>162.332565</td>\n",
       "      <td>1567.529777</td>\n",
       "    </tr>\n",
       "    <tr>\n",
       "      <th>WEST</th>\n",
       "      <td>189.562233</td>\n",
       "      <td>1851.106647</td>\n",
       "    </tr>\n",
       "    <tr>\n",
       "      <th>YUKON</th>\n",
       "      <td>344.345517</td>\n",
       "      <td>1983.969563</td>\n",
       "    </tr>\n",
       "  </tbody>\n",
       "</table>\n",
       "</div>"
      ],
      "text/plain": [
       "                                            Profit        Sales\n",
       "Customer_Segment Region                                        \n",
       "CONSUMER         ATLANTIC               308.278841  2191.276783\n",
       "                 NORTHWEST TERRITORIES  340.005152  2052.510621\n",
       "                 NUNAVUT                336.757500  2271.586667\n",
       "                 ONTARIO                 78.158006  1478.099014\n",
       "                 PRARIE                 182.478223  1519.745182\n",
       "                 QUEBEC                 196.921180  2082.320233\n",
       "                 WEST                   167.868173  2068.721678\n",
       "                 YUKON                   17.889615  1964.666188\n",
       "CORPORATE        ATLANTIC               115.449162  1643.961467\n",
       "                 NORTHWEST TERRITORIES  228.152513  1976.408073\n",
       "                 NUNAVUT                -38.651714  1742.229000\n",
       "                 ONTARIO                214.708173  1751.318412\n",
       "                 PRARIE                 244.944449  1872.082308\n",
       "                 QUEBEC                 228.074914  1996.559045\n",
       "                 WEST                   202.380304  1772.304088\n",
       "                 YUKON                   69.593500  1548.871968\n",
       "HOME OFFICE      ATLANTIC               327.441399  2113.716464\n",
       "                 NORTHWEST TERRITORIES  119.600227  2204.625398\n",
       "                 NUNAVUT                 45.990000   997.452978\n",
       "                 ONTARIO                248.423385  1811.414706\n",
       "                 PRARIE                 133.026843  1417.655288\n",
       "                 QUEBEC                 125.905787  2093.104754\n",
       "                 WEST                    16.484839  1589.417233\n",
       "                 YUKON                  203.969924  1970.877118\n",
       "SMALL BUSINESS   ATLANTIC               203.397074  1631.070976\n",
       "                 NORTHWEST TERRITORIES  430.865366  1970.896366\n",
       "                 NUNAVUT               -100.548889   577.556667\n",
       "                 ONTARIO                161.939652  1528.490906\n",
       "                 PRARIE                 135.165576  1682.845591\n",
       "                 QUEBEC                 162.332565  1567.529777\n",
       "                 WEST                   189.562233  1851.106647\n",
       "                 YUKON                  344.345517  1983.969563"
      ]
     },
     "execution_count": 29,
     "metadata": {},
     "output_type": "execute_result"
    }
   ],
   "source": [
    "df_1"
   ]
  },
  {
   "cell_type": "code",
   "execution_count": null,
   "metadata": {
    "collapsed": true
   },
   "outputs": [],
   "source": []
  }
 ],
 "metadata": {
  "kernelspec": {
   "display_name": "Python 3",
   "language": "python",
   "name": "python3"
  },
  "language_info": {
   "codemirror_mode": {
    "name": "ipython",
    "version": 3
   },
   "file_extension": ".py",
   "mimetype": "text/x-python",
   "name": "python",
   "nbconvert_exporter": "python",
   "pygments_lexer": "ipython3",
   "version": "3.6.0"
  }
 },
 "nbformat": 4,
 "nbformat_minor": 2
}
