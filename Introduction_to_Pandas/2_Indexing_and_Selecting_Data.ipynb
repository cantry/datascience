{
 "cells": [
  {
   "cell_type": "markdown",
   "metadata": {},
   "source": [
    "# Indexing and Selecting Data\n",
    "\n",
    "In this section, you will:\n",
    "\n",
    "* Select rows from a dataframe\n",
    "* Select columns from a dataframe\n",
    "* Select subsets of dataframes"
   ]
  },
  {
   "cell_type": "markdown",
   "metadata": {},
   "source": [
    "### Selecting Rows\n",
    "\n",
    "Selecting rows in dataframes is similar to the indexing you have seen in numpy arrays. The syntax ```df[start_index:end_index]``` will subset rows according to the start and end indices."
   ]
  },
  {
   "cell_type": "code",
   "execution_count": 1,
   "metadata": {
    "collapsed": false
   },
   "outputs": [
    {
     "data": {
      "text/html": [
       "<div>\n",
       "<table border=\"1\" class=\"dataframe\">\n",
       "  <thead>\n",
       "    <tr style=\"text-align: right;\">\n",
       "      <th></th>\n",
       "      <th>Ord_id</th>\n",
       "      <th>Prod_id</th>\n",
       "      <th>Ship_id</th>\n",
       "      <th>Cust_id</th>\n",
       "      <th>Sales</th>\n",
       "      <th>Discount</th>\n",
       "      <th>Order_Quantity</th>\n",
       "      <th>Profit</th>\n",
       "      <th>Shipping_Cost</th>\n",
       "      <th>Product_Base_Margin</th>\n",
       "    </tr>\n",
       "  </thead>\n",
       "  <tbody>\n",
       "    <tr>\n",
       "      <th>0</th>\n",
       "      <td>Ord_5446</td>\n",
       "      <td>Prod_16</td>\n",
       "      <td>SHP_7609</td>\n",
       "      <td>Cust_1818</td>\n",
       "      <td>136.81</td>\n",
       "      <td>0.01</td>\n",
       "      <td>23</td>\n",
       "      <td>-30.51</td>\n",
       "      <td>3.60</td>\n",
       "      <td>0.56</td>\n",
       "    </tr>\n",
       "    <tr>\n",
       "      <th>1</th>\n",
       "      <td>Ord_5406</td>\n",
       "      <td>Prod_13</td>\n",
       "      <td>SHP_7549</td>\n",
       "      <td>Cust_1818</td>\n",
       "      <td>42.27</td>\n",
       "      <td>0.01</td>\n",
       "      <td>13</td>\n",
       "      <td>4.56</td>\n",
       "      <td>0.93</td>\n",
       "      <td>0.54</td>\n",
       "    </tr>\n",
       "    <tr>\n",
       "      <th>2</th>\n",
       "      <td>Ord_5446</td>\n",
       "      <td>Prod_4</td>\n",
       "      <td>SHP_7610</td>\n",
       "      <td>Cust_1818</td>\n",
       "      <td>4701.69</td>\n",
       "      <td>0.00</td>\n",
       "      <td>26</td>\n",
       "      <td>1148.90</td>\n",
       "      <td>2.50</td>\n",
       "      <td>0.59</td>\n",
       "    </tr>\n",
       "    <tr>\n",
       "      <th>3</th>\n",
       "      <td>Ord_5456</td>\n",
       "      <td>Prod_6</td>\n",
       "      <td>SHP_7625</td>\n",
       "      <td>Cust_1818</td>\n",
       "      <td>2337.89</td>\n",
       "      <td>0.09</td>\n",
       "      <td>43</td>\n",
       "      <td>729.34</td>\n",
       "      <td>14.30</td>\n",
       "      <td>0.37</td>\n",
       "    </tr>\n",
       "    <tr>\n",
       "      <th>4</th>\n",
       "      <td>Ord_5485</td>\n",
       "      <td>Prod_17</td>\n",
       "      <td>SHP_7664</td>\n",
       "      <td>Cust_1818</td>\n",
       "      <td>4233.15</td>\n",
       "      <td>0.08</td>\n",
       "      <td>35</td>\n",
       "      <td>1219.87</td>\n",
       "      <td>26.30</td>\n",
       "      <td>0.38</td>\n",
       "    </tr>\n",
       "  </tbody>\n",
       "</table>\n",
       "</div>"
      ],
      "text/plain": [
       "     Ord_id  Prod_id   Ship_id    Cust_id    Sales  Discount  Order_Quantity  \\\n",
       "0  Ord_5446  Prod_16  SHP_7609  Cust_1818   136.81      0.01              23   \n",
       "1  Ord_5406  Prod_13  SHP_7549  Cust_1818    42.27      0.01              13   \n",
       "2  Ord_5446   Prod_4  SHP_7610  Cust_1818  4701.69      0.00              26   \n",
       "3  Ord_5456   Prod_6  SHP_7625  Cust_1818  2337.89      0.09              43   \n",
       "4  Ord_5485  Prod_17  SHP_7664  Cust_1818  4233.15      0.08              35   \n",
       "\n",
       "    Profit  Shipping_Cost  Product_Base_Margin  \n",
       "0   -30.51           3.60                 0.56  \n",
       "1     4.56           0.93                 0.54  \n",
       "2  1148.90           2.50                 0.59  \n",
       "3   729.34          14.30                 0.37  \n",
       "4  1219.87          26.30                 0.38  "
      ]
     },
     "execution_count": 1,
     "metadata": {},
     "output_type": "execute_result"
    }
   ],
   "source": [
    "import numpy as np\n",
    "import pandas as pd\n",
    "\n",
    "market_df = pd.read_csv(\"../global_sales_data/market_fact.csv\")\n",
    "market_df.head()"
   ]
  },
  {
   "cell_type": "markdown",
   "metadata": {},
   "source": [
    "Notice that, by default, pandas assigns integer labels to the rows, starting at 0."
   ]
  },
  {
   "cell_type": "code",
   "execution_count": 2,
   "metadata": {
    "collapsed": false
   },
   "outputs": [
    {
     "data": {
      "text/html": [
       "<div>\n",
       "<table border=\"1\" class=\"dataframe\">\n",
       "  <thead>\n",
       "    <tr style=\"text-align: right;\">\n",
       "      <th></th>\n",
       "      <th>Ord_id</th>\n",
       "      <th>Prod_id</th>\n",
       "      <th>Ship_id</th>\n",
       "      <th>Cust_id</th>\n",
       "      <th>Sales</th>\n",
       "      <th>Discount</th>\n",
       "      <th>Order_Quantity</th>\n",
       "      <th>Profit</th>\n",
       "      <th>Shipping_Cost</th>\n",
       "      <th>Product_Base_Margin</th>\n",
       "    </tr>\n",
       "  </thead>\n",
       "  <tbody>\n",
       "    <tr>\n",
       "      <th>2</th>\n",
       "      <td>Ord_5446</td>\n",
       "      <td>Prod_4</td>\n",
       "      <td>SHP_7610</td>\n",
       "      <td>Cust_1818</td>\n",
       "      <td>4701.69</td>\n",
       "      <td>0.00</td>\n",
       "      <td>26</td>\n",
       "      <td>1148.90</td>\n",
       "      <td>2.50</td>\n",
       "      <td>0.59</td>\n",
       "    </tr>\n",
       "    <tr>\n",
       "      <th>3</th>\n",
       "      <td>Ord_5456</td>\n",
       "      <td>Prod_6</td>\n",
       "      <td>SHP_7625</td>\n",
       "      <td>Cust_1818</td>\n",
       "      <td>2337.89</td>\n",
       "      <td>0.09</td>\n",
       "      <td>43</td>\n",
       "      <td>729.34</td>\n",
       "      <td>14.30</td>\n",
       "      <td>0.37</td>\n",
       "    </tr>\n",
       "    <tr>\n",
       "      <th>4</th>\n",
       "      <td>Ord_5485</td>\n",
       "      <td>Prod_17</td>\n",
       "      <td>SHP_7664</td>\n",
       "      <td>Cust_1818</td>\n",
       "      <td>4233.15</td>\n",
       "      <td>0.08</td>\n",
       "      <td>35</td>\n",
       "      <td>1219.87</td>\n",
       "      <td>26.30</td>\n",
       "      <td>0.38</td>\n",
       "    </tr>\n",
       "    <tr>\n",
       "      <th>5</th>\n",
       "      <td>Ord_5446</td>\n",
       "      <td>Prod_6</td>\n",
       "      <td>SHP_7608</td>\n",
       "      <td>Cust_1818</td>\n",
       "      <td>164.02</td>\n",
       "      <td>0.03</td>\n",
       "      <td>23</td>\n",
       "      <td>-47.64</td>\n",
       "      <td>6.15</td>\n",
       "      <td>0.37</td>\n",
       "    </tr>\n",
       "    <tr>\n",
       "      <th>6</th>\n",
       "      <td>Ord_31</td>\n",
       "      <td>Prod_12</td>\n",
       "      <td>SHP_41</td>\n",
       "      <td>Cust_26</td>\n",
       "      <td>14.76</td>\n",
       "      <td>0.01</td>\n",
       "      <td>5</td>\n",
       "      <td>1.32</td>\n",
       "      <td>0.50</td>\n",
       "      <td>0.36</td>\n",
       "    </tr>\n",
       "  </tbody>\n",
       "</table>\n",
       "</div>"
      ],
      "text/plain": [
       "     Ord_id  Prod_id   Ship_id    Cust_id    Sales  Discount  Order_Quantity  \\\n",
       "2  Ord_5446   Prod_4  SHP_7610  Cust_1818  4701.69      0.00              26   \n",
       "3  Ord_5456   Prod_6  SHP_7625  Cust_1818  2337.89      0.09              43   \n",
       "4  Ord_5485  Prod_17  SHP_7664  Cust_1818  4233.15      0.08              35   \n",
       "5  Ord_5446   Prod_6  SHP_7608  Cust_1818   164.02      0.03              23   \n",
       "6    Ord_31  Prod_12    SHP_41    Cust_26    14.76      0.01               5   \n",
       "\n",
       "    Profit  Shipping_Cost  Product_Base_Margin  \n",
       "2  1148.90           2.50                 0.59  \n",
       "3   729.34          14.30                 0.37  \n",
       "4  1219.87          26.30                 0.38  \n",
       "5   -47.64           6.15                 0.37  \n",
       "6     1.32           0.50                 0.36  "
      ]
     },
     "execution_count": 2,
     "metadata": {},
     "output_type": "execute_result"
    }
   ],
   "source": [
    "# Selecting the rows from indices 2 to 6\n",
    "market_df[2:7]"
   ]
  },
  {
   "cell_type": "code",
   "execution_count": 10,
   "metadata": {
    "collapsed": false
   },
   "outputs": [
    {
     "data": {
      "text/plain": [
       "pandas.core.frame.DataFrame"
      ]
     },
     "execution_count": 10,
     "metadata": {},
     "output_type": "execute_result"
    }
   ],
   "source": [
    "# Selecting alternate rows starting from index = 5\n",
    "ss = market_df[5::2]\n",
    "ss.head()\n",
    "type( ss)"
   ]
  },
  {
   "cell_type": "markdown",
   "metadata": {},
   "source": [
    "### Selecting Columns\n",
    "\n",
    "There are two simple ways to select a single column from a dataframe - ```df['column_name']``` and ```df.column_name```."
   ]
  },
  {
   "cell_type": "code",
   "execution_count": 11,
   "metadata": {
    "collapsed": false
   },
   "outputs": [
    {
     "data": {
      "text/plain": [
       "0     136.81\n",
       "1      42.27\n",
       "2    4701.69\n",
       "3    2337.89\n",
       "4    4233.15\n",
       "Name: Sales, dtype: float64"
      ]
     },
     "execution_count": 11,
     "metadata": {},
     "output_type": "execute_result"
    }
   ],
   "source": [
    "# Using df['column']\n",
    "sales = market_df['Sales']\n",
    "sales.head()\n"
   ]
  },
  {
   "cell_type": "code",
   "execution_count": 12,
   "metadata": {
    "collapsed": false
   },
   "outputs": [
    {
     "data": {
      "text/plain": [
       "0     136.81\n",
       "1      42.27\n",
       "2    4701.69\n",
       "3    2337.89\n",
       "4    4233.15\n",
       "Name: Sales, dtype: float64"
      ]
     },
     "execution_count": 12,
     "metadata": {},
     "output_type": "execute_result"
    }
   ],
   "source": [
    "# Using df.column\n",
    "sales = market_df.Sales\n",
    "sales.head()"
   ]
  },
  {
   "cell_type": "code",
   "execution_count": 6,
   "metadata": {
    "collapsed": false
   },
   "outputs": [
    {
     "name": "stdout",
     "output_type": "stream",
     "text": [
      "<class 'pandas.core.series.Series'>\n",
      "<class 'pandas.core.series.Series'>\n"
     ]
    }
   ],
   "source": [
    "# Notice that in both these cases, the resultant is a Series object\n",
    "print(type(market_df['Sales']))\n",
    "print(type(market_df.Sales))\n"
   ]
  },
  {
   "cell_type": "markdown",
   "metadata": {},
   "source": [
    "#### Selecting Multiple Columns \n",
    "\n",
    "You can select multiple columns by passing the list of column names inside the ```[]```: ```df[['column_1', 'column_2', 'column_n']]```.\n",
    "\n",
    "For instance, to select only the columns Cust_id, Sales and Profit:"
   ]
  },
  {
   "cell_type": "code",
   "execution_count": 13,
   "metadata": {
    "collapsed": false
   },
   "outputs": [
    {
     "data": {
      "text/html": [
       "<div>\n",
       "<table border=\"1\" class=\"dataframe\">\n",
       "  <thead>\n",
       "    <tr style=\"text-align: right;\">\n",
       "      <th></th>\n",
       "      <th>Cust_id</th>\n",
       "      <th>Sales</th>\n",
       "      <th>Profit</th>\n",
       "    </tr>\n",
       "  </thead>\n",
       "  <tbody>\n",
       "    <tr>\n",
       "      <th>0</th>\n",
       "      <td>Cust_1818</td>\n",
       "      <td>136.81</td>\n",
       "      <td>-30.51</td>\n",
       "    </tr>\n",
       "    <tr>\n",
       "      <th>1</th>\n",
       "      <td>Cust_1818</td>\n",
       "      <td>42.27</td>\n",
       "      <td>4.56</td>\n",
       "    </tr>\n",
       "    <tr>\n",
       "      <th>2</th>\n",
       "      <td>Cust_1818</td>\n",
       "      <td>4701.69</td>\n",
       "      <td>1148.90</td>\n",
       "    </tr>\n",
       "    <tr>\n",
       "      <th>3</th>\n",
       "      <td>Cust_1818</td>\n",
       "      <td>2337.89</td>\n",
       "      <td>729.34</td>\n",
       "    </tr>\n",
       "    <tr>\n",
       "      <th>4</th>\n",
       "      <td>Cust_1818</td>\n",
       "      <td>4233.15</td>\n",
       "      <td>1219.87</td>\n",
       "    </tr>\n",
       "  </tbody>\n",
       "</table>\n",
       "</div>"
      ],
      "text/plain": [
       "     Cust_id    Sales   Profit\n",
       "0  Cust_1818   136.81   -30.51\n",
       "1  Cust_1818    42.27     4.56\n",
       "2  Cust_1818  4701.69  1148.90\n",
       "3  Cust_1818  2337.89   729.34\n",
       "4  Cust_1818  4233.15  1219.87"
      ]
     },
     "execution_count": 13,
     "metadata": {},
     "output_type": "execute_result"
    }
   ],
   "source": [
    "# Select Cust_id, Sales and Profit:\n",
    "market_df[['Cust_id', 'Sales', 'Profit']].head()"
   ]
  },
  {
   "cell_type": "markdown",
   "metadata": {},
   "source": [
    "Notice that in this case, the output is itself a dataframe."
   ]
  },
  {
   "cell_type": "code",
   "execution_count": 14,
   "metadata": {
    "collapsed": false
   },
   "outputs": [
    {
     "data": {
      "text/plain": [
       "pandas.core.frame.DataFrame"
      ]
     },
     "execution_count": 14,
     "metadata": {},
     "output_type": "execute_result"
    }
   ],
   "source": [
    "type(market_df[['Cust_id', 'Sales', 'Profit']])"
   ]
  },
  {
   "cell_type": "code",
   "execution_count": 15,
   "metadata": {
    "collapsed": false
   },
   "outputs": [
    {
     "data": {
      "text/plain": [
       "pandas.core.frame.DataFrame"
      ]
     },
     "execution_count": 15,
     "metadata": {},
     "output_type": "execute_result"
    }
   ],
   "source": [
    "# Similarly, if you select one column using double square brackets, \n",
    "# you'll get a df, not Series\n",
    "\n",
    "type(market_df[['Sales']])"
   ]
  },
  {
   "cell_type": "markdown",
   "metadata": {},
   "source": [
    "### Selecting Subsets of Dataframes\n",
    "\n",
    "Until now, you have seen selecting rows and columns using the following ways:\n",
    "* Selecting rows: ```df[start:stop]```\n",
    "* Selecting columns: ```df['column']``` or ```df.column``` or ```df[['col_x', 'col_y']]```\n",
    "    * ```df['column']``` or ```df.column``` return a series\n",
    "    * ```df[['col_x', 'col_y']]``` returns a dataframe\n",
    "\n",
    "But pandas does not prefer this way of indexing dataframes, since it has some ambiguity. For instance, let's try and select the third row of the dataframe.\n",
    "\n"
   ]
  },
  {
   "cell_type": "code",
   "execution_count": 30,
   "metadata": {
    "collapsed": false
   },
   "outputs": [
    {
     "ename": "KeyError",
     "evalue": "2",
     "output_type": "error",
     "traceback": [
      "\u001b[0;31m---------------------------------------------------------------------------\u001b[0m",
      "\u001b[0;31mKeyError\u001b[0m                                  Traceback (most recent call last)",
      "\u001b[0;32mC:\\ProgramData\\Anaconda3\\lib\\site-packages\\pandas\\indexes\\base.py\u001b[0m in \u001b[0;36mget_loc\u001b[0;34m(self, key, method, tolerance)\u001b[0m\n\u001b[1;32m   2133\u001b[0m             \u001b[1;32mtry\u001b[0m\u001b[1;33m:\u001b[0m\u001b[1;33m\u001b[0m\u001b[0m\n\u001b[0;32m-> 2134\u001b[0;31m                 \u001b[1;32mreturn\u001b[0m \u001b[0mself\u001b[0m\u001b[1;33m.\u001b[0m\u001b[0m_engine\u001b[0m\u001b[1;33m.\u001b[0m\u001b[0mget_loc\u001b[0m\u001b[1;33m(\u001b[0m\u001b[0mkey\u001b[0m\u001b[1;33m)\u001b[0m\u001b[1;33m\u001b[0m\u001b[0m\n\u001b[0m\u001b[1;32m   2135\u001b[0m             \u001b[1;32mexcept\u001b[0m \u001b[0mKeyError\u001b[0m\u001b[1;33m:\u001b[0m\u001b[1;33m\u001b[0m\u001b[0m\n",
      "\u001b[0;32mpandas\\index.pyx\u001b[0m in \u001b[0;36mpandas.index.IndexEngine.get_loc (pandas\\index.c:4433)\u001b[0;34m()\u001b[0m\n",
      "\u001b[0;32mpandas\\index.pyx\u001b[0m in \u001b[0;36mpandas.index.IndexEngine.get_loc (pandas\\index.c:4279)\u001b[0;34m()\u001b[0m\n",
      "\u001b[0;32mpandas\\src\\hashtable_class_helper.pxi\u001b[0m in \u001b[0;36mpandas.hashtable.PyObjectHashTable.get_item (pandas\\hashtable.c:13742)\u001b[0;34m()\u001b[0m\n",
      "\u001b[0;32mpandas\\src\\hashtable_class_helper.pxi\u001b[0m in \u001b[0;36mpandas.hashtable.PyObjectHashTable.get_item (pandas\\hashtable.c:13696)\u001b[0;34m()\u001b[0m\n",
      "\u001b[0;31mKeyError\u001b[0m: 2",
      "\nDuring handling of the above exception, another exception occurred:\n",
      "\u001b[0;31mKeyError\u001b[0m                                  Traceback (most recent call last)",
      "\u001b[0;32m<ipython-input-30-ed0bc9b66a55>\u001b[0m in \u001b[0;36m<module>\u001b[0;34m()\u001b[0m\n\u001b[1;32m      1\u001b[0m \u001b[1;31m# Trying to select the third row: Throws an error\u001b[0m\u001b[1;33m\u001b[0m\u001b[1;33m\u001b[0m\u001b[0m\n\u001b[0;32m----> 2\u001b[0;31m \u001b[0mmarket_df\u001b[0m\u001b[1;33m[\u001b[0m\u001b[1;36m2\u001b[0m\u001b[1;33m]\u001b[0m\u001b[1;33m\u001b[0m\u001b[0m\n\u001b[0m",
      "\u001b[0;32mC:\\ProgramData\\Anaconda3\\lib\\site-packages\\pandas\\core\\frame.py\u001b[0m in \u001b[0;36m__getitem__\u001b[0;34m(self, key)\u001b[0m\n\u001b[1;32m   2057\u001b[0m             \u001b[1;32mreturn\u001b[0m \u001b[0mself\u001b[0m\u001b[1;33m.\u001b[0m\u001b[0m_getitem_multilevel\u001b[0m\u001b[1;33m(\u001b[0m\u001b[0mkey\u001b[0m\u001b[1;33m)\u001b[0m\u001b[1;33m\u001b[0m\u001b[0m\n\u001b[1;32m   2058\u001b[0m         \u001b[1;32melse\u001b[0m\u001b[1;33m:\u001b[0m\u001b[1;33m\u001b[0m\u001b[0m\n\u001b[0;32m-> 2059\u001b[0;31m             \u001b[1;32mreturn\u001b[0m \u001b[0mself\u001b[0m\u001b[1;33m.\u001b[0m\u001b[0m_getitem_column\u001b[0m\u001b[1;33m(\u001b[0m\u001b[0mkey\u001b[0m\u001b[1;33m)\u001b[0m\u001b[1;33m\u001b[0m\u001b[0m\n\u001b[0m\u001b[1;32m   2060\u001b[0m \u001b[1;33m\u001b[0m\u001b[0m\n\u001b[1;32m   2061\u001b[0m     \u001b[1;32mdef\u001b[0m \u001b[0m_getitem_column\u001b[0m\u001b[1;33m(\u001b[0m\u001b[0mself\u001b[0m\u001b[1;33m,\u001b[0m \u001b[0mkey\u001b[0m\u001b[1;33m)\u001b[0m\u001b[1;33m:\u001b[0m\u001b[1;33m\u001b[0m\u001b[0m\n",
      "\u001b[0;32mC:\\ProgramData\\Anaconda3\\lib\\site-packages\\pandas\\core\\frame.py\u001b[0m in \u001b[0;36m_getitem_column\u001b[0;34m(self, key)\u001b[0m\n\u001b[1;32m   2064\u001b[0m         \u001b[1;31m# get column\u001b[0m\u001b[1;33m\u001b[0m\u001b[1;33m\u001b[0m\u001b[0m\n\u001b[1;32m   2065\u001b[0m         \u001b[1;32mif\u001b[0m \u001b[0mself\u001b[0m\u001b[1;33m.\u001b[0m\u001b[0mcolumns\u001b[0m\u001b[1;33m.\u001b[0m\u001b[0mis_unique\u001b[0m\u001b[1;33m:\u001b[0m\u001b[1;33m\u001b[0m\u001b[0m\n\u001b[0;32m-> 2066\u001b[0;31m             \u001b[1;32mreturn\u001b[0m \u001b[0mself\u001b[0m\u001b[1;33m.\u001b[0m\u001b[0m_get_item_cache\u001b[0m\u001b[1;33m(\u001b[0m\u001b[0mkey\u001b[0m\u001b[1;33m)\u001b[0m\u001b[1;33m\u001b[0m\u001b[0m\n\u001b[0m\u001b[1;32m   2067\u001b[0m \u001b[1;33m\u001b[0m\u001b[0m\n\u001b[1;32m   2068\u001b[0m         \u001b[1;31m# duplicate columns & possible reduce dimensionality\u001b[0m\u001b[1;33m\u001b[0m\u001b[1;33m\u001b[0m\u001b[0m\n",
      "\u001b[0;32mC:\\ProgramData\\Anaconda3\\lib\\site-packages\\pandas\\core\\generic.py\u001b[0m in \u001b[0;36m_get_item_cache\u001b[0;34m(self, item)\u001b[0m\n\u001b[1;32m   1384\u001b[0m         \u001b[0mres\u001b[0m \u001b[1;33m=\u001b[0m \u001b[0mcache\u001b[0m\u001b[1;33m.\u001b[0m\u001b[0mget\u001b[0m\u001b[1;33m(\u001b[0m\u001b[0mitem\u001b[0m\u001b[1;33m)\u001b[0m\u001b[1;33m\u001b[0m\u001b[0m\n\u001b[1;32m   1385\u001b[0m         \u001b[1;32mif\u001b[0m \u001b[0mres\u001b[0m \u001b[1;32mis\u001b[0m \u001b[1;32mNone\u001b[0m\u001b[1;33m:\u001b[0m\u001b[1;33m\u001b[0m\u001b[0m\n\u001b[0;32m-> 1386\u001b[0;31m             \u001b[0mvalues\u001b[0m \u001b[1;33m=\u001b[0m \u001b[0mself\u001b[0m\u001b[1;33m.\u001b[0m\u001b[0m_data\u001b[0m\u001b[1;33m.\u001b[0m\u001b[0mget\u001b[0m\u001b[1;33m(\u001b[0m\u001b[0mitem\u001b[0m\u001b[1;33m)\u001b[0m\u001b[1;33m\u001b[0m\u001b[0m\n\u001b[0m\u001b[1;32m   1387\u001b[0m             \u001b[0mres\u001b[0m \u001b[1;33m=\u001b[0m \u001b[0mself\u001b[0m\u001b[1;33m.\u001b[0m\u001b[0m_box_item_values\u001b[0m\u001b[1;33m(\u001b[0m\u001b[0mitem\u001b[0m\u001b[1;33m,\u001b[0m \u001b[0mvalues\u001b[0m\u001b[1;33m)\u001b[0m\u001b[1;33m\u001b[0m\u001b[0m\n\u001b[1;32m   1388\u001b[0m             \u001b[0mcache\u001b[0m\u001b[1;33m[\u001b[0m\u001b[0mitem\u001b[0m\u001b[1;33m]\u001b[0m \u001b[1;33m=\u001b[0m \u001b[0mres\u001b[0m\u001b[1;33m\u001b[0m\u001b[0m\n",
      "\u001b[0;32mC:\\ProgramData\\Anaconda3\\lib\\site-packages\\pandas\\core\\internals.py\u001b[0m in \u001b[0;36mget\u001b[0;34m(self, item, fastpath)\u001b[0m\n\u001b[1;32m   3541\u001b[0m \u001b[1;33m\u001b[0m\u001b[0m\n\u001b[1;32m   3542\u001b[0m             \u001b[1;32mif\u001b[0m \u001b[1;32mnot\u001b[0m \u001b[0misnull\u001b[0m\u001b[1;33m(\u001b[0m\u001b[0mitem\u001b[0m\u001b[1;33m)\u001b[0m\u001b[1;33m:\u001b[0m\u001b[1;33m\u001b[0m\u001b[0m\n\u001b[0;32m-> 3543\u001b[0;31m                 \u001b[0mloc\u001b[0m \u001b[1;33m=\u001b[0m \u001b[0mself\u001b[0m\u001b[1;33m.\u001b[0m\u001b[0mitems\u001b[0m\u001b[1;33m.\u001b[0m\u001b[0mget_loc\u001b[0m\u001b[1;33m(\u001b[0m\u001b[0mitem\u001b[0m\u001b[1;33m)\u001b[0m\u001b[1;33m\u001b[0m\u001b[0m\n\u001b[0m\u001b[1;32m   3544\u001b[0m             \u001b[1;32melse\u001b[0m\u001b[1;33m:\u001b[0m\u001b[1;33m\u001b[0m\u001b[0m\n\u001b[1;32m   3545\u001b[0m                 \u001b[0mindexer\u001b[0m \u001b[1;33m=\u001b[0m \u001b[0mnp\u001b[0m\u001b[1;33m.\u001b[0m\u001b[0marange\u001b[0m\u001b[1;33m(\u001b[0m\u001b[0mlen\u001b[0m\u001b[1;33m(\u001b[0m\u001b[0mself\u001b[0m\u001b[1;33m.\u001b[0m\u001b[0mitems\u001b[0m\u001b[1;33m)\u001b[0m\u001b[1;33m)\u001b[0m\u001b[1;33m[\u001b[0m\u001b[0misnull\u001b[0m\u001b[1;33m(\u001b[0m\u001b[0mself\u001b[0m\u001b[1;33m.\u001b[0m\u001b[0mitems\u001b[0m\u001b[1;33m)\u001b[0m\u001b[1;33m]\u001b[0m\u001b[1;33m\u001b[0m\u001b[0m\n",
      "\u001b[0;32mC:\\ProgramData\\Anaconda3\\lib\\site-packages\\pandas\\indexes\\base.py\u001b[0m in \u001b[0;36mget_loc\u001b[0;34m(self, key, method, tolerance)\u001b[0m\n\u001b[1;32m   2134\u001b[0m                 \u001b[1;32mreturn\u001b[0m \u001b[0mself\u001b[0m\u001b[1;33m.\u001b[0m\u001b[0m_engine\u001b[0m\u001b[1;33m.\u001b[0m\u001b[0mget_loc\u001b[0m\u001b[1;33m(\u001b[0m\u001b[0mkey\u001b[0m\u001b[1;33m)\u001b[0m\u001b[1;33m\u001b[0m\u001b[0m\n\u001b[1;32m   2135\u001b[0m             \u001b[1;32mexcept\u001b[0m \u001b[0mKeyError\u001b[0m\u001b[1;33m:\u001b[0m\u001b[1;33m\u001b[0m\u001b[0m\n\u001b[0;32m-> 2136\u001b[0;31m                 \u001b[1;32mreturn\u001b[0m \u001b[0mself\u001b[0m\u001b[1;33m.\u001b[0m\u001b[0m_engine\u001b[0m\u001b[1;33m.\u001b[0m\u001b[0mget_loc\u001b[0m\u001b[1;33m(\u001b[0m\u001b[0mself\u001b[0m\u001b[1;33m.\u001b[0m\u001b[0m_maybe_cast_indexer\u001b[0m\u001b[1;33m(\u001b[0m\u001b[0mkey\u001b[0m\u001b[1;33m)\u001b[0m\u001b[1;33m)\u001b[0m\u001b[1;33m\u001b[0m\u001b[0m\n\u001b[0m\u001b[1;32m   2137\u001b[0m \u001b[1;33m\u001b[0m\u001b[0m\n\u001b[1;32m   2138\u001b[0m         \u001b[0mindexer\u001b[0m \u001b[1;33m=\u001b[0m \u001b[0mself\u001b[0m\u001b[1;33m.\u001b[0m\u001b[0mget_indexer\u001b[0m\u001b[1;33m(\u001b[0m\u001b[1;33m[\u001b[0m\u001b[0mkey\u001b[0m\u001b[1;33m]\u001b[0m\u001b[1;33m,\u001b[0m \u001b[0mmethod\u001b[0m\u001b[1;33m=\u001b[0m\u001b[0mmethod\u001b[0m\u001b[1;33m,\u001b[0m \u001b[0mtolerance\u001b[0m\u001b[1;33m=\u001b[0m\u001b[0mtolerance\u001b[0m\u001b[1;33m)\u001b[0m\u001b[1;33m\u001b[0m\u001b[0m\n",
      "\u001b[0;32mpandas\\index.pyx\u001b[0m in \u001b[0;36mpandas.index.IndexEngine.get_loc (pandas\\index.c:4433)\u001b[0;34m()\u001b[0m\n",
      "\u001b[0;32mpandas\\index.pyx\u001b[0m in \u001b[0;36mpandas.index.IndexEngine.get_loc (pandas\\index.c:4279)\u001b[0;34m()\u001b[0m\n",
      "\u001b[0;32mpandas\\src\\hashtable_class_helper.pxi\u001b[0m in \u001b[0;36mpandas.hashtable.PyObjectHashTable.get_item (pandas\\hashtable.c:13742)\u001b[0;34m()\u001b[0m\n",
      "\u001b[0;32mpandas\\src\\hashtable_class_helper.pxi\u001b[0m in \u001b[0;36mpandas.hashtable.PyObjectHashTable.get_item (pandas\\hashtable.c:13696)\u001b[0;34m()\u001b[0m\n",
      "\u001b[0;31mKeyError\u001b[0m: 2"
     ]
    }
   ],
   "source": [
    "# Trying to select the third row: Throws an error\n",
    "market_df[2]"
   ]
  },
  {
   "cell_type": "markdown",
   "metadata": {},
   "source": [
    "Pandas throws an error because it is confused whether the ```[2]``` is an *index* or a *label*. Recall from the previous section that you can change the row indices. "
   ]
  },
  {
   "cell_type": "code",
   "execution_count": 31,
   "metadata": {
    "collapsed": false
   },
   "outputs": [
    {
     "data": {
      "text/html": [
       "<div>\n",
       "<table border=\"1\" class=\"dataframe\">\n",
       "  <thead>\n",
       "    <tr style=\"text-align: right;\">\n",
       "      <th></th>\n",
       "      <th>Prod_id</th>\n",
       "      <th>Ship_id</th>\n",
       "      <th>Cust_id</th>\n",
       "      <th>Sales</th>\n",
       "      <th>Discount</th>\n",
       "      <th>Order_Quantity</th>\n",
       "      <th>Profit</th>\n",
       "      <th>Shipping_Cost</th>\n",
       "      <th>Product_Base_Margin</th>\n",
       "    </tr>\n",
       "    <tr>\n",
       "      <th>Ord_id</th>\n",
       "      <th></th>\n",
       "      <th></th>\n",
       "      <th></th>\n",
       "      <th></th>\n",
       "      <th></th>\n",
       "      <th></th>\n",
       "      <th></th>\n",
       "      <th></th>\n",
       "      <th></th>\n",
       "    </tr>\n",
       "  </thead>\n",
       "  <tbody>\n",
       "    <tr>\n",
       "      <th>Ord_5446</th>\n",
       "      <td>Prod_16</td>\n",
       "      <td>SHP_7609</td>\n",
       "      <td>Cust_1818</td>\n",
       "      <td>136.81</td>\n",
       "      <td>0.01</td>\n",
       "      <td>23</td>\n",
       "      <td>-30.51</td>\n",
       "      <td>3.60</td>\n",
       "      <td>0.56</td>\n",
       "    </tr>\n",
       "    <tr>\n",
       "      <th>Ord_5406</th>\n",
       "      <td>Prod_13</td>\n",
       "      <td>SHP_7549</td>\n",
       "      <td>Cust_1818</td>\n",
       "      <td>42.27</td>\n",
       "      <td>0.01</td>\n",
       "      <td>13</td>\n",
       "      <td>4.56</td>\n",
       "      <td>0.93</td>\n",
       "      <td>0.54</td>\n",
       "    </tr>\n",
       "    <tr>\n",
       "      <th>Ord_5446</th>\n",
       "      <td>Prod_4</td>\n",
       "      <td>SHP_7610</td>\n",
       "      <td>Cust_1818</td>\n",
       "      <td>4701.69</td>\n",
       "      <td>0.00</td>\n",
       "      <td>26</td>\n",
       "      <td>1148.90</td>\n",
       "      <td>2.50</td>\n",
       "      <td>0.59</td>\n",
       "    </tr>\n",
       "    <tr>\n",
       "      <th>Ord_5456</th>\n",
       "      <td>Prod_6</td>\n",
       "      <td>SHP_7625</td>\n",
       "      <td>Cust_1818</td>\n",
       "      <td>2337.89</td>\n",
       "      <td>0.09</td>\n",
       "      <td>43</td>\n",
       "      <td>729.34</td>\n",
       "      <td>14.30</td>\n",
       "      <td>0.37</td>\n",
       "    </tr>\n",
       "    <tr>\n",
       "      <th>Ord_5485</th>\n",
       "      <td>Prod_17</td>\n",
       "      <td>SHP_7664</td>\n",
       "      <td>Cust_1818</td>\n",
       "      <td>4233.15</td>\n",
       "      <td>0.08</td>\n",
       "      <td>35</td>\n",
       "      <td>1219.87</td>\n",
       "      <td>26.30</td>\n",
       "      <td>0.38</td>\n",
       "    </tr>\n",
       "  </tbody>\n",
       "</table>\n",
       "</div>"
      ],
      "text/plain": [
       "          Prod_id   Ship_id    Cust_id    Sales  Discount  Order_Quantity  \\\n",
       "Ord_id                                                                      \n",
       "Ord_5446  Prod_16  SHP_7609  Cust_1818   136.81      0.01              23   \n",
       "Ord_5406  Prod_13  SHP_7549  Cust_1818    42.27      0.01              13   \n",
       "Ord_5446   Prod_4  SHP_7610  Cust_1818  4701.69      0.00              26   \n",
       "Ord_5456   Prod_6  SHP_7625  Cust_1818  2337.89      0.09              43   \n",
       "Ord_5485  Prod_17  SHP_7664  Cust_1818  4233.15      0.08              35   \n",
       "\n",
       "           Profit  Shipping_Cost  Product_Base_Margin  \n",
       "Ord_id                                                 \n",
       "Ord_5446   -30.51           3.60                 0.56  \n",
       "Ord_5406     4.56           0.93                 0.54  \n",
       "Ord_5446  1148.90           2.50                 0.59  \n",
       "Ord_5456   729.34          14.30                 0.37  \n",
       "Ord_5485  1219.87          26.30                 0.38  "
      ]
     },
     "execution_count": 31,
     "metadata": {},
     "output_type": "execute_result"
    }
   ],
   "source": [
    "# Changing the row indices to Ord_id\n",
    "market_df.set_index('Ord_id').head()"
   ]
  },
  {
   "cell_type": "markdown",
   "metadata": {},
   "source": [
    "Now imagine you had a column with entries ```[2, 4, 7, 8 ...]```, and you set that as the index. What should ```df[2]``` return?\n",
    "The second row, or the row with the index value = 2?\n",
    "\n",
    "Taking an example from this dataset, say you decide to assign the ```Order_Quantity``` column as the index."
   ]
  },
  {
   "cell_type": "code",
   "execution_count": 19,
   "metadata": {
    "collapsed": false
   },
   "outputs": [
    {
     "data": {
      "text/html": [
       "<div>\n",
       "<table border=\"1\" class=\"dataframe\">\n",
       "  <thead>\n",
       "    <tr style=\"text-align: right;\">\n",
       "      <th></th>\n",
       "      <th>Ord_id</th>\n",
       "      <th>Prod_id</th>\n",
       "      <th>Ship_id</th>\n",
       "      <th>Cust_id</th>\n",
       "      <th>Sales</th>\n",
       "      <th>Discount</th>\n",
       "      <th>Profit</th>\n",
       "      <th>Shipping_Cost</th>\n",
       "      <th>Product_Base_Margin</th>\n",
       "    </tr>\n",
       "    <tr>\n",
       "      <th>Order_Quantity</th>\n",
       "      <th></th>\n",
       "      <th></th>\n",
       "      <th></th>\n",
       "      <th></th>\n",
       "      <th></th>\n",
       "      <th></th>\n",
       "      <th></th>\n",
       "      <th></th>\n",
       "      <th></th>\n",
       "    </tr>\n",
       "  </thead>\n",
       "  <tbody>\n",
       "    <tr>\n",
       "      <th>23</th>\n",
       "      <td>Ord_5446</td>\n",
       "      <td>Prod_16</td>\n",
       "      <td>SHP_7609</td>\n",
       "      <td>Cust_1818</td>\n",
       "      <td>136.81</td>\n",
       "      <td>0.01</td>\n",
       "      <td>-30.51</td>\n",
       "      <td>3.60</td>\n",
       "      <td>0.56</td>\n",
       "    </tr>\n",
       "    <tr>\n",
       "      <th>13</th>\n",
       "      <td>Ord_5406</td>\n",
       "      <td>Prod_13</td>\n",
       "      <td>SHP_7549</td>\n",
       "      <td>Cust_1818</td>\n",
       "      <td>42.27</td>\n",
       "      <td>0.01</td>\n",
       "      <td>4.56</td>\n",
       "      <td>0.93</td>\n",
       "      <td>0.54</td>\n",
       "    </tr>\n",
       "    <tr>\n",
       "      <th>26</th>\n",
       "      <td>Ord_5446</td>\n",
       "      <td>Prod_4</td>\n",
       "      <td>SHP_7610</td>\n",
       "      <td>Cust_1818</td>\n",
       "      <td>4701.69</td>\n",
       "      <td>0.00</td>\n",
       "      <td>1148.90</td>\n",
       "      <td>2.50</td>\n",
       "      <td>0.59</td>\n",
       "    </tr>\n",
       "    <tr>\n",
       "      <th>43</th>\n",
       "      <td>Ord_5456</td>\n",
       "      <td>Prod_6</td>\n",
       "      <td>SHP_7625</td>\n",
       "      <td>Cust_1818</td>\n",
       "      <td>2337.89</td>\n",
       "      <td>0.09</td>\n",
       "      <td>729.34</td>\n",
       "      <td>14.30</td>\n",
       "      <td>0.37</td>\n",
       "    </tr>\n",
       "    <tr>\n",
       "      <th>35</th>\n",
       "      <td>Ord_5485</td>\n",
       "      <td>Prod_17</td>\n",
       "      <td>SHP_7664</td>\n",
       "      <td>Cust_1818</td>\n",
       "      <td>4233.15</td>\n",
       "      <td>0.08</td>\n",
       "      <td>1219.87</td>\n",
       "      <td>26.30</td>\n",
       "      <td>0.38</td>\n",
       "    </tr>\n",
       "  </tbody>\n",
       "</table>\n",
       "</div>"
      ],
      "text/plain": [
       "                  Ord_id  Prod_id   Ship_id    Cust_id    Sales  Discount  \\\n",
       "Order_Quantity                                                              \n",
       "23              Ord_5446  Prod_16  SHP_7609  Cust_1818   136.81      0.01   \n",
       "13              Ord_5406  Prod_13  SHP_7549  Cust_1818    42.27      0.01   \n",
       "26              Ord_5446   Prod_4  SHP_7610  Cust_1818  4701.69      0.00   \n",
       "43              Ord_5456   Prod_6  SHP_7625  Cust_1818  2337.89      0.09   \n",
       "35              Ord_5485  Prod_17  SHP_7664  Cust_1818  4233.15      0.08   \n",
       "\n",
       "                 Profit  Shipping_Cost  Product_Base_Margin  \n",
       "Order_Quantity                                               \n",
       "23               -30.51           3.60                 0.56  \n",
       "13                 4.56           0.93                 0.54  \n",
       "26              1148.90           2.50                 0.59  \n",
       "43               729.34          14.30                 0.37  \n",
       "35              1219.87          26.30                 0.38  "
      ]
     },
     "execution_count": 19,
     "metadata": {},
     "output_type": "execute_result"
    }
   ],
   "source": [
    "market_df.set_index('Order_Quantity').head()"
   ]
  },
  {
   "cell_type": "markdown",
   "metadata": {},
   "source": [
    "Now, what should ```df[13]``` return - the 14th row, or the row with index label 13 (i.e. the second row)?\n",
    "\n",
    "Because of this and similar other ambiguities, pandas provides **explicit ways** to subset dataframes - position based indexing and label based indexing, which we'll study next."
   ]
  },
  {
   "cell_type": "code",
   "execution_count": 21,
   "metadata": {
    "collapsed": true
   },
   "outputs": [],
   "source": [
    "df = pd.read_csv('https://query.data.world/s/vBDCsoHCytUSLKkLvq851k2b8JOCkF')"
   ]
  },
  {
   "cell_type": "code",
   "execution_count": 29,
   "metadata": {
    "collapsed": false
   },
   "outputs": [
    {
     "ename": "NameError",
     "evalue": "name 'typeof' is not defined",
     "output_type": "error",
     "traceback": [
      "\u001b[0;31m---------------------------------------------------------------------------\u001b[0m",
      "\u001b[0;31mNameError\u001b[0m                                 Traceback (most recent call last)",
      "\u001b[0;32m<ipython-input-29-f9df6a09adba>\u001b[0m in \u001b[0;36m<module>\u001b[0;34m()\u001b[0m\n\u001b[0;32m----> 1\u001b[0;31m \u001b[0mtypeof\u001b[0m\u001b[1;33m(\u001b[0m\u001b[0mdf\u001b[0m\u001b[1;33m.\u001b[0m\u001b[0mX\u001b[0m\u001b[1;33m)\u001b[0m\u001b[1;33m\u001b[0m\u001b[0m\n\u001b[0m",
      "\u001b[0;31mNameError\u001b[0m: name 'typeof' is not defined"
     ]
    }
   ],
   "source": [
    "typeof(df.X)"
   ]
  }
 ],
 "metadata": {
  "kernelspec": {
   "display_name": "Python 3",
   "language": "python",
   "name": "python3"
  },
  "language_info": {
   "codemirror_mode": {
    "name": "ipython",
    "version": 3
   },
   "file_extension": ".py",
   "mimetype": "text/x-python",
   "name": "python",
   "nbconvert_exporter": "python",
   "pygments_lexer": "ipython3",
   "version": "3.6.0"
  }
 },
 "nbformat": 4,
 "nbformat_minor": 2
}
