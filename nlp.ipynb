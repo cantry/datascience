{
 "cells": [
  {
   "cell_type": "code",
   "execution_count": 1,
   "metadata": {
    "collapsed": true
   },
   "outputs": [],
   "source": [
    "from nltk import *"
   ]
  },
  {
   "cell_type": "code",
   "execution_count": 4,
   "metadata": {
    "collapsed": false
   },
   "outputs": [
    {
     "name": "stdout",
     "output_type": "stream",
     "text": [
      "*** Introductory Examples for the NLTK Book ***\n",
      "Loading text1, ..., text9 and sent1, ..., sent9\n",
      "Type the name of the text or sentence to view it.\n",
      "Type: 'texts()' or 'sents()' to list the materials.\n",
      "text1: Moby Dick by Herman Melville 1851\n",
      "text2: Sense and Sensibility by Jane Austen 1811\n",
      "text3: The Book of Genesis\n",
      "text4: Inaugural Address Corpus\n",
      "text5: Chat Corpus\n",
      "text6: Monty Python and the Holy Grail\n",
      "text7: Wall Street Journal\n",
      "text8: Personals Corpus\n",
      "text9: The Man Who Was Thursday by G . K . Chesterton 1908\n"
     ]
    }
   ],
   "source": [
    "from nltk.book import *"
   ]
  },
  {
   "cell_type": "code",
   "execution_count": 5,
   "metadata": {
    "collapsed": false
   },
   "outputs": [
    {
     "data": {
      "text/plain": [
       "<Text: Moby Dick by Herman Melville 1851>"
      ]
     },
     "execution_count": 5,
     "metadata": {},
     "output_type": "execute_result"
    }
   ],
   "source": [
    "text1"
   ]
  },
  {
   "cell_type": "code",
   "execution_count": 7,
   "metadata": {
    "collapsed": false
   },
   "outputs": [
    {
     "name": "stdout",
     "output_type": "stream",
     "text": [
      "Displaying 11 of 11 matches:\n",
      "ong the former , one was of a most monstrous size . ... This came towards us , \n",
      "ON OF THE PSALMS . \" Touching that monstrous bulk of the whale or ork we have r\n",
      "ll over with a heathenish array of monstrous clubs and spears . Some were thick\n",
      "d as you gazed , and wondered what monstrous cannibal and savage could ever hav\n",
      "that has survived the flood ; most monstrous and most mountainous ! That Himmal\n",
      "they might scout at Moby Dick as a monstrous fable , or still worse and more de\n",
      "th of Radney .'\" CHAPTER 55 Of the Monstrous Pictures of Whales . I shall ere l\n",
      "ing Scenes . In connexion with the monstrous pictures of whales , I am strongly\n",
      "ere to enter upon those still more monstrous stories of them which are to be fo\n",
      "ght have been rummaged out of this monstrous cabinet there is no telling . But \n",
      "of Whale - Bones ; for Whales of a monstrous size are oftentimes cast up dead u\n"
     ]
    }
   ],
   "source": [
    "text1.concordance(\"monstrous\")"
   ]
  },
  {
   "cell_type": "code",
   "execution_count": 9,
   "metadata": {
    "collapsed": false
   },
   "outputs": [
    {
     "name": "stdout",
     "output_type": "stream",
     "text": [
      "Displaying 25 of 114 matches:\n",
      "taking burrower and grub - worm of a poor devil of a Sub - Sub appears to have\n",
      "luding our own . So fare thee well , poor devil of a Sub - Sub , whose comment\n",
      "ne sometimes loves to sit , and feel poor - devilish , too ; and grow convivia\n",
      "ousand miles to see it ? Why did the poor poet of Tennessee , upon suddenly re\n",
      " whaling , and though in this matter poor old Nantucket is now much behind her\n",
      "worse howling than ever it did about poor Paul ' s tossed craft . Euroclydon ,\n",
      "ere carted off a million years ago . Poor Lazarus there , chattering his teeth\n",
      "art of Africa , which was the sum of poor Mungo ' s performances -- this kind \n",
      "straps to his canvas trowsers . Ah , poor Hay - Seed ! how bitterly will burst\n",
      "now , my shipmates , the behavior of poor Jonah . The eager mariners but ask h\n",
      "ent their wages in that place also , poor Queequeg gave it up for lost . Thoug\n",
      "arking our things , including my own poor carpet - bag , and Queequeg ' s canv\n",
      " entire after part of the deck . The poor fellow whom Queequeg had handled so \n",
      ". The boat soon picked them up . The poor bumpkin was restored . All hands vot\n",
      "ueequeg like a barnacle ; yea , till poor Queequeg took his last long dive . W\n",
      " found an empty ivory casket ,-- the poor little Indian ' s skeleton . What wo\n",
      " It might be thought that this was a poor way to accumulate a princely fortune\n",
      "ly fortune -- and so it was , a very poor way indeed . But I am one of those t\n",
      " another counterpane -- God pity his poor mother !-- it will be the ruin of my\n",
      "ll be the ruin of my house . Has the poor lad a sister ? Where ' s that girl ?\n",
      "vy , it ' s grinding the face of the poor . Get off , Queequeg ! Look , he ' l\n",
      "brimful of every interest to him ,-- poor old Bildad lingered long ; paced the\n",
      "h , but then whalemen themselves are poor devils ; they have no good blood in \n",
      "instance , the complete abasement of poor Starbuck ' s fortitude , scarce migh\n",
      "from encountering them ; that in his poor opinion , the wondrous whale was but\n"
     ]
    }
   ],
   "source": [
    "\n",
    "text1.concordance(\"poor\")"
   ]
  },
  {
   "cell_type": "code",
   "execution_count": 12,
   "metadata": {
    "collapsed": false
   },
   "outputs": [
    {
     "name": "stdout",
     "output_type": "stream",
     "text": [
      "very so exceedingly heartily a as good great extremely remarkably\n",
      "sweet vast amazingly\n"
     ]
    }
   ],
   "source": [
    "text2.similar(\"monstrous\")"
   ]
  },
  {
   "cell_type": "code",
   "execution_count": 16,
   "metadata": {
    "collapsed": false
   },
   "outputs": [
    {
     "name": "stdout",
     "output_type": "stream",
     "text": [
      "No common contexts were found\n"
     ]
    }
   ],
   "source": [
    "text2.common_contexts([\"monstrous\", \"the\"])"
   ]
  },
  {
   "cell_type": "code",
   "execution_count": null,
   "metadata": {
    "collapsed": true
   },
   "outputs": [],
   "source": []
  }
 ],
 "metadata": {
  "kernelspec": {
   "display_name": "Python 3",
   "language": "python",
   "name": "python3"
  },
  "language_info": {
   "codemirror_mode": {
    "name": "ipython",
    "version": 3
   },
   "file_extension": ".py",
   "mimetype": "text/x-python",
   "name": "python",
   "nbconvert_exporter": "python",
   "pygments_lexer": "ipython3",
   "version": "3.6.0"
  }
 },
 "nbformat": 4,
 "nbformat_minor": 2
}
